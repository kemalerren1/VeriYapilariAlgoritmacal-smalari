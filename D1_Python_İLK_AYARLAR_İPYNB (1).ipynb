{
  "nbformat": 4,
  "nbformat_minor": 0,
  "metadata": {
    "colab": {
      "provenance": []
    },
    "kernelspec": {
      "name": "python3",
      "display_name": "Python 3"
    },
    "language_info": {
      "name": "python"
    }
  },
  "cells": [
    {
      "cell_type": "code",
      "execution_count": null,
      "metadata": {
        "id": "k3_9qJGQdRCx"
      },
      "outputs": [],
      "source": []
    },
    {
      "cell_type": "markdown",
      "source": [
        "İGÜ HEE ALGORİTMA DERSİ 01.10.2024\n",
        "\n",
        "İLK PHYTON PROGRAMLAMA DİLİ ÇIKTISIDIR."
      ],
      "metadata": {
        "id": "1SE7U7RTdWfm"
      }
    },
    {
      "cell_type": "code",
      "source": [
        "print(\"Merhaba IGU HEE ALGORİTMA Sınıfı\") # İLK ÇIKTI"
      ],
      "metadata": {
        "colab": {
          "base_uri": "https://localhost:8080/"
        },
        "id": "R7fSL5QGdnWm",
        "outputId": "b7a63cae-9c3f-450e-b6e6-c99ec8029fb1"
      },
      "execution_count": 2,
      "outputs": [
        {
          "output_type": "stream",
          "name": "stdout",
          "text": [
            "Merhaba IGU HEE ALGORİTMA Sınıfı\n"
          ]
        }
      ]
    },
    {
      "cell_type": "markdown",
      "source": [],
      "metadata": {
        "id": "DKQGVSbLeRsn"
      }
    },
    {
      "cell_type": "code",
      "source": [
        "import sys # import phyton programlama diline kütüphaneye eklemeye yarayan bir koddur.\n",
        "print(sys.version)"
      ],
      "metadata": {
        "colab": {
          "base_uri": "https://localhost:8080/"
        },
        "id": "wB3Mp9o5eekg",
        "outputId": "9c78e7c6-9f94-4aae-cce9-5122c0c5847f"
      },
      "execution_count": 1,
      "outputs": [
        {
          "output_type": "stream",
          "name": "stdout",
          "text": [
            "3.10.12 (main, Sep 11 2024, 15:47:36) [GCC 11.4.0]\n"
          ]
        }
      ]
    },
    {
      "cell_type": "code",
      "source": [
        "from google.colab import drive # google colab - drive bağlantısı\n",
        "\n",
        "drive.mount('/content/drive')"
      ],
      "metadata": {
        "colab": {
          "base_uri": "https://localhost:8080/"
        },
        "id": "8Ybm-Wayh4yl",
        "outputId": "3e5e27dd-d285-4fdb-b467-8d224ff44aa9"
      },
      "execution_count": 3,
      "outputs": [
        {
          "output_type": "stream",
          "name": "stdout",
          "text": [
            "Mounted at /content/drive\n"
          ]
        }
      ]
    },
    {
      "cell_type": "code",
      "source": [
        "import os\n",
        "os.chdir('/content/drive/My Drive/IGU_ALGORITMA')\n",
        "\n",
        "!pwd # bize kodunb çıktısını dosya yolu olarak veren kod blogudur."
      ],
      "metadata": {
        "id": "TseHQFj9iu1N"
      },
      "execution_count": null,
      "outputs": []
    }
  ]
}